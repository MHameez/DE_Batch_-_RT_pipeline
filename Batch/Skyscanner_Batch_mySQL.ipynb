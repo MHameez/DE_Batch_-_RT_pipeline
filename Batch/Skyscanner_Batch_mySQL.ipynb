{
 "cells": [
  {
   "cell_type": "markdown",
   "metadata": {},
   "source": [
    "### Batch mySQL to Spark (1)"
   ]
  },
  {
   "cell_type": "code",
   "execution_count": 1,
   "metadata": {},
   "outputs": [],
   "source": [
    "import pandas as pd\n",
    "from pyspark.sql import SparkSession\n",
    "\n",
    "## Connect to MySQL (Airport)\n",
    "dataframe_mysql_airport = sqlContext.read.format(\"jdbc\").option(\"url\", \"jdbc:mysql://127.0.0.1 /skyscanner_batch\")\\\n",
    ".option(\"driver\", \"com.mysql.jdbc.Driver\").option(\"dbtable\", \"airports\").option(\"user\", \"root\")\\\n",
    ".option(\"password\", \"\").load()\n",
    "\n",
    "## Connect to MySQL (Cities)\n",
    "dataframe_mysql_cities = sqlContext.read.format(\"jdbc\").option(\"url\", \"jdbc:mysql://127.0.0.1 /skyscanner_batch\")\\\n",
    ".option(\"driver\", \"com.mysql.jdbc.Driver\").option(\"dbtable\", \"cities\").option(\"user\", \"root\")\\\n",
    ".option(\"password\", \"\").load()\n"
   ]
  },
  {
   "cell_type": "code",
   "execution_count": 2,
   "metadata": {},
   "outputs": [],
   "source": [
    "#Airport Table\n",
    "AirportDF =  dataframe_mysql_airport.toPandas()\n",
    "AirportJSON = AirportDF.to_json(orient=\"records\")\n",
    "\n",
    "#Cities Data\n",
    "CitiesDF =  dataframe_mysql_cities.toPandas()\n",
    "CitiesJSON = CitiesDF.to_json(orient=\"records\")\n"
   ]
  },
  {
   "cell_type": "markdown",
   "metadata": {},
   "source": [
    "### Elasticsearch Index Creation for SQL Data  (2)"
   ]
  },
  {
   "cell_type": "code",
   "execution_count": 3,
   "metadata": {},
   "outputs": [
    {
     "data": {
      "text/plain": [
       "{'acknowledged': True, 'shards_acknowledged': True, 'index': 'airports_api'}"
      ]
     },
     "execution_count": 3,
     "metadata": {},
     "output_type": "execute_result"
    }
   ],
   "source": [
    "from elasticsearch import Elasticsearch\n",
    "\n",
    "es = Elasticsearch('http://localhost:9200/')\n",
    "es.indices.create(index=\"airports_api\", ignore=400)"
   ]
  },
  {
   "cell_type": "code",
   "execution_count": 4,
   "metadata": {},
   "outputs": [
    {
     "data": {
      "text/plain": [
       "{'acknowledged': True, 'shards_acknowledged': True, 'index': 'cities_api'}"
      ]
     },
     "execution_count": 4,
     "metadata": {},
     "output_type": "execute_result"
    }
   ],
   "source": [
    "es2 = Elasticsearch('http://localhost:9200/')\n",
    "es2.indices.create(index=\"cities_api\", ignore=400)"
   ]
  },
  {
   "cell_type": "markdown",
   "metadata": {},
   "source": [
    "### Parse Data to Index in ES (3)"
   ]
  },
  {
   "cell_type": "code",
   "execution_count": 5,
   "metadata": {},
   "outputs": [],
   "source": [
    "import json\n",
    "\n",
    "for i, item in AirportDF.iterrows():\n",
    "    es.index(index=\"airports_api\", \n",
    "         doc_type = \"json\" , \n",
    "         body = {\"IATA\":item['IATA'],\"Airport_Name\":item['Airport_Name'],\"City_ID\":item['City_ID']})"
   ]
  },
  {
   "cell_type": "code",
   "execution_count": 6,
   "metadata": {},
   "outputs": [],
   "source": [
    "for x, items in CitiesDF.iterrows():\n",
    "    es2.index(index=\"cities_api\", \n",
    "         doc_type = \"json\", \n",
    "         body = {\"City_ID\":items['City_ID'],\"City_Name\":items[' City_Name'],\"Country_Name\":items[' Country_Name'],\"Country_Code\":items[' Country_Code']})"
   ]
  },
  {
   "cell_type": "code",
   "execution_count": null,
   "metadata": {},
   "outputs": [],
   "source": []
  }
 ],
 "metadata": {
  "kernelspec": {
   "display_name": "Python 3",
   "language": "python",
   "name": "python3"
  },
  "language_info": {
   "codemirror_mode": {
    "name": "ipython",
    "version": 3
   },
   "file_extension": ".py",
   "mimetype": "text/x-python",
   "name": "python",
   "nbconvert_exporter": "python",
   "pygments_lexer": "ipython3",
   "version": "3.6.7"
  }
 },
 "nbformat": 4,
 "nbformat_minor": 2
}

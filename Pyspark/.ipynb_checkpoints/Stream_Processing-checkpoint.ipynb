{
 "cells": [
  {
   "cell_type": "markdown",
   "metadata": {},
   "source": [
    "### Real-Stream Data"
   ]
  },
  {
   "cell_type": "code",
   "execution_count": null,
   "metadata": {},
   "outputs": [],
   "source": []
  },
  {
   "cell_type": "markdown",
   "metadata": {},
   "source": [
    "#### Loading Data to Pyspark from Producer"
   ]
  },
  {
   "cell_type": "code",
   "execution_count": 14,
   "metadata": {},
   "outputs": [
    {
     "name": "stdout",
     "output_type": "stream",
     "text": [
      "<pyspark.sql.session.SparkSession object at 0x0000017D39EB8F28>\n"
     ]
    }
   ],
   "source": [
    "import os\n",
    "os.environ['PYSPARK_SUBMIT_ARGS'] = '--packages org.apache.spark:spark-sql-kafka-0-10_2.11:2.3.1 --master local[3] pyspark-shell'\n",
    "\n",
    "import findspark\n",
    "\n",
    "findspark.init()\n",
    "\n",
    "from pyspark.sql import SparkSession\n",
    "from pyspark.sql.functions import explode, split, concat, lit, col\n",
    "from time import sleep\n",
    "\n",
    "if __name__ == '__main__':\n",
    "    mySpark = SparkSession.builder.appName(\"Skyscanner\").master(\"local\").getOrCreate()\n",
    "    df = mySpark \\\n",
    "          .read \\\n",
    "          .format(\"kafka\") \\\n",
    "          .option(\"kafka.bootstrap.servers\", \"localhost:9092\") \\\n",
    "          .option(\"subscribe\", \"airports\") \\\n",
    "          .option(\"startingOffsets\", \"earliest\") \\\n",
    "          .load()\n",
    "    \n",
    "    lines = df.selectExpr(\"CAST(value AS STRING)\")\n",
    "#     print(lines)\n",
    "    #airports2 = [msg.value.decode('utf-8').split(\" \")[0] for msg in df]\n",
    "    print(mySpark)\n",
    "\n",
    "#     # Split the lines into words\n",
    "#     words = lines.select(\n",
    "#         explode(\n",
    "#             split(lines.value, \" \")\n",
    "#         ).alias(\"word\")\n",
    "#     )\n",
    "#     wordCounts = words.groupBy(\"word\").count()\n",
    "#     query = wordCounts \\\n",
    "#               .select(concat(col(\"word\"), lit(\" \"), col(\"count\")).alias(\"value\")) \\\n",
    "#               .write \\\n",
    "#               .format(\"kafka\") \\\n",
    "#               .option(\"kafka.bootstrap.servers\", \"localhost:9092\") \\\n",
    "#               .option(\"checkpointLocation\", \"C:\\\\tmp\\\\cp2\")\\\n",
    "#               .option(\"topic\", \"topic_for_batch_processed\") \\\n",
    "#               .save()\n"
   ]
  },
  {
   "cell_type": "markdown",
   "metadata": {},
   "source": [
    "### Kafka Consumer "
   ]
  },
  {
   "cell_type": "code",
   "execution_count": 15,
   "metadata": {},
   "outputs": [
    {
     "name": "stdout",
     "output_type": "stream",
     "text": [
      "['Schiphol', 'Eindhoven', 'Enschede', 'Groningen', 'Lelystad', 'Maastricht', 'Rotterdam', 'IATA', 'Airport_Name', 'City_ID']\n"
     ]
    }
   ],
   "source": [
    "from kafka import KafkaConsumer\n",
    "import pandas\n",
    "\n",
    "consumer = KafkaConsumer(bootstrap_servers='localhost:9092',\n",
    "                                 auto_offset_reset='earliest',\n",
    "                                 consumer_timeout_ms=1000)\n",
    "consumer.subscribe(['airports'])\n",
    "\n",
    "\n",
    "\n",
    "airports = [msg.value.decode('utf-8').split(\" \")[0] for msg in consumer]\n",
    "print(airports)"
   ]
  },
  {
   "cell_type": "markdown",
   "metadata": {},
   "source": [
    "### ElasticSearch API"
   ]
  },
  {
   "cell_type": "code",
   "execution_count": null,
   "metadata": {},
   "outputs": [],
   "source": []
  }
 ],
 "metadata": {
  "kernelspec": {
   "display_name": "Python 3",
   "language": "python",
   "name": "python3"
  },
  "language_info": {
   "codemirror_mode": {
    "name": "ipython",
    "version": 3
   },
   "file_extension": ".py",
   "mimetype": "text/x-python",
   "name": "python",
   "nbconvert_exporter": "python",
   "pygments_lexer": "ipython3",
   "version": "3.6.7"
  }
 },
 "nbformat": 4,
 "nbformat_minor": 2
}

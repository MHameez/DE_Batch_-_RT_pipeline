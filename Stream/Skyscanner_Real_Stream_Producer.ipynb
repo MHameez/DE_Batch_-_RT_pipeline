{
 "cells": [
  {
   "cell_type": "markdown",
   "metadata": {},
   "source": [
    "## Real-Stream Data Source (1)"
   ]
  },
  {
   "cell_type": "code",
   "execution_count": 1,
   "metadata": {},
   "outputs": [],
   "source": [
    "from kafka import KafkaProducer\n",
    "import json\n",
    "\n",
    "##Connection to Producer\n",
    "producer = KafkaProducer(bootstrap_servers='localhost:9092')"
   ]
  },
  {
   "cell_type": "markdown",
   "metadata": {},
   "source": [
    "### Parsing data to Producer (2)"
   ]
  },
  {
   "cell_type": "code",
   "execution_count": 2,
   "metadata": {},
   "outputs": [],
   "source": [
    "import csv\n",
    "import time\n",
    "import random\n",
    "import pandas\n",
    "import json\n",
    "\n",
    "#Read Data Source\n",
    "columnNames =[\"Flight_ID\",\"Flight_NR\",\"Departure_Date\",\"Departure_Time\",\"Departure_Airport_ID\",\"Arrival_Date\",\"Arrival_Time\",\"Destination_Airport_ID\",\"Airline\",\"Price\",\"Delay\",\"Cancellation\"] \n",
    "streamDF = pandas.read_csv('Skyscanner_Stream_API.csv',names=columnNames)\n",
    "\n",
    "#Stream Data is fed iteratively into the Producer\n",
    "for i, JsonObjects in streamDF.iterrows():\n",
    "    producer.send('crowdedness',\n",
    "                  bytes(JsonObjects.to_json(orient='records').encode('utf-8')))\n",
    "    producer.flush()\n",
    "    \n",
    "    #Time gap between Objects    \n",
    "    time.sleep(random.uniform(1, 6))\n"
   ]
  },
  {
   "cell_type": "code",
   "execution_count": null,
   "metadata": {},
   "outputs": [],
   "source": []
  }
 ],
 "metadata": {
  "kernelspec": {
   "display_name": "Python 3",
   "language": "python",
   "name": "python3"
  },
  "language_info": {
   "codemirror_mode": {
    "name": "ipython",
    "version": 3
   },
   "file_extension": ".py",
   "mimetype": "text/x-python",
   "name": "python",
   "nbconvert_exporter": "python",
   "pygments_lexer": "ipython3",
   "version": "3.6.7"
  }
 },
 "nbformat": 4,
 "nbformat_minor": 2
}

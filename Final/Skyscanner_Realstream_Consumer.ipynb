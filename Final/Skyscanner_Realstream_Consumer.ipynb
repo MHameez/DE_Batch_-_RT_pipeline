{
 "cells": [
  {
   "cell_type": "markdown",
   "metadata": {},
   "source": [
    "### Consuming Realstream Data (3)"
   ]
  },
  {
   "cell_type": "code",
   "execution_count": 91,
   "metadata": {},
   "outputs": [
    {
     "data": {
      "text/plain": [
       "{'error': {'root_cause': [{'type': 'resource_already_exists_exception',\n",
       "    'reason': 'index [crowdedness_api/kbH-K_zjRKGBbOjEPae7DA] already exists',\n",
       "    'index_uuid': 'kbH-K_zjRKGBbOjEPae7DA',\n",
       "    'index': 'crowdedness_api'}],\n",
       "  'type': 'resource_already_exists_exception',\n",
       "  'reason': 'index [crowdedness_api/kbH-K_zjRKGBbOjEPae7DA] already exists',\n",
       "  'index_uuid': 'kbH-K_zjRKGBbOjEPae7DA',\n",
       "  'index': 'crowdedness_api'},\n",
       " 'status': 400}"
      ]
     },
     "execution_count": 91,
     "metadata": {},
     "output_type": "execute_result"
    }
   ],
   "source": [
    "from elasticsearch import Elasticsearch\n",
    "\n",
    "es = Elasticsearch('http://localhost:9200/')\n",
    "es.indices.create(index=\"crowdedness_api\", ignore=400)"
   ]
  },
  {
   "cell_type": "code",
   "execution_count": 92,
   "metadata": {},
   "outputs": [],
   "source": [
    "from kafka import KafkaConsumer\n",
    "import json\n",
    " \n",
    "consumer = KafkaConsumer(bootstrap_servers='localhost:9092',\n",
    "                                 auto_offset_reset='earliest',\n",
    "                                 consumer_timeout_ms=1000)\n"
   ]
  },
  {
   "cell_type": "code",
   "execution_count": null,
   "metadata": {},
   "outputs": [],
   "source": [
    "import pandas as pd\n",
    "columnNames =[\"Flight_ID\",\"Flight_NR\",\"Departure_Date\",\"Departure_Time\",\"Departure_Airport_ID\",\"Arrival_Date\",\"Arrival_Time\",\"Destination_Airport_ID\",\"Airline\",\"Price\",\"Delay\",\"Cancellation\"]\n",
    "consumer.subscribe(['crowdedness'])\n",
    "\n",
    "msgDF = pandas.DataFrame()  \n",
    "for x in consumer:\n",
    "    msg = json.loads(x.value)\n",
    "    es.index(index=\"crowdedness_api\", \n",
    "         doc_type = \"json\" , \n",
    "         body = {\"Flight_ID\":msg[0],\"Flight_NR\":msg[1],\"Departure_Date\":msg[2],\"Departure_Time\":msg[3],\"Departure_Airport_ID\":msg[4],\"Arrival_Date\":msg[5],\"Arrival_Time\":msg[6],\"Destination_Airport_ID\":msg[7],\"Airline\":msg[8],\"Price\":msg[9],\"Delay\":msg[10],\"Cancellation\":msg[11]})\n"
   ]
  },
  {
   "cell_type": "markdown",
   "metadata": {},
   "source": [
    "### ElasticSearch Stream Data to topics (4)"
   ]
  },
  {
   "cell_type": "markdown",
   "metadata": {},
   "source": [
    "### >> Run Kibana (5)"
   ]
  }
 ],
 "metadata": {
  "kernelspec": {
   "display_name": "Python 3",
   "language": "python",
   "name": "python3"
  },
  "language_info": {
   "codemirror_mode": {
    "name": "ipython",
    "version": 3
   },
   "file_extension": ".py",
   "mimetype": "text/x-python",
   "name": "python",
   "nbconvert_exporter": "python",
   "pygments_lexer": "ipython3",
   "version": "3.6.7"
  }
 },
 "nbformat": 4,
 "nbformat_minor": 2
}
